{
 "cells": [
  {
   "cell_type": "markdown",
   "id": "063fca90",
   "metadata": {},
   "source": [
    "# Data Science Tools and Ecosystems"
   ]
  },
  {
   "cell_type": "markdown",
   "id": "9d94b934",
   "metadata": {},
   "source": [
    "In this notebook, Data Science Tools and Ecosystem are summarized.\n",
    "\n"
   ]
  },
  {
   "cell_type": "markdown",
   "id": "1bd231d5",
   "metadata": {},
   "source": [
    "## Objectives:\n",
    "\n",
    "**1. List popular languages for Data Science:**\n",
    "   - Python\n",
    "   - R\n",
    "   - Julia\n",
    "\n",
    "**2. Understand key concepts in Machine Learning:**\n",
    "   - Supervised Learning\n",
    "   - Unsupervised Learning\n",
    "   - Feature Engineering\n",
    "\n",
    "**3. Explore Data Visualization techniques:**\n",
    "   - Using Matplotlib\n",
    "   - Seaborn for statistical data visualization\n",
    "\n",
    "**4. Learn about Jupyter Notebooks:**\n",
    "   - Basics of Jupyter\n",
    "   - Markdown and code cells\n",
    "\n",
    "**5. Introduction to Pandas for Data Manipulation:**\n",
    "   - Reading and manipulating data frames\n",
    "   - Basic data cleaning techniques"
   ]
  },
  {
   "cell_type": "markdown",
   "id": "5b72b3bc",
   "metadata": {},
   "source": [
    "Some of the popular languages that Data Scientists use are:\n",
    "\n",
    "1. Python\n",
    "2. R\n",
    "3. Julia"
   ]
  },
  {
   "cell_type": "markdown",
   "id": "303e2a25",
   "metadata": {},
   "source": [
    "Some of the commonly used libraries used by Data Scientists include:\n",
    "\n",
    "1. Pandas\n",
    "2. Numpy\n",
    "3. Sci-kit learn\n",
    "4. Tensorflow\n",
    "5. Matplotlib"
   ]
  },
  {
   "cell_type": "markdown",
   "id": "8e2737ab",
   "metadata": {},
   "source": [
    "\n",
    "| Data Science Tools |\n",
    "| --- |\n",
    "| Jupyter Notebook |\n",
    "| R Studio |\n",
    "| Matlab |\n"
   ]
  },
  {
   "cell_type": "markdown",
   "id": "81401e44",
   "metadata": {},
   "source": [
    "### Below are a few examples of evaluating arithmetic expressions in Python\n"
   ]
  },
  {
   "cell_type": "code",
   "execution_count": 2,
   "id": "9f1c9d9b",
   "metadata": {},
   "outputs": [
    {
     "name": "stdout",
     "output_type": "stream",
     "text": [
      "17\n"
     ]
    }
   ],
   "source": [
    "print((3*4)+5)\n",
    "#This a simple arithmetic expression to mutiply then add integers"
   ]
  },
  {
   "cell_type": "code",
   "execution_count": 3,
   "id": "75ca954a",
   "metadata": {},
   "outputs": [
    {
     "name": "stdout",
     "output_type": "stream",
     "text": [
      "3.3333333333333335 hours\n"
     ]
    }
   ],
   "source": [
    "print(200/60, \"hours\")\n",
    "#This will convert 200 minutes to hours by diving by 60"
   ]
  },
  {
   "cell_type": "markdown",
   "id": "1817a491",
   "metadata": {},
   "source": [
    "## Author\n",
    "Bora Tümer"
   ]
  },
  {
   "cell_type": "code",
   "execution_count": null,
   "id": "e3466f93",
   "metadata": {},
   "outputs": [],
   "source": []
  }
 ],
 "metadata": {
  "kernelspec": {
   "display_name": "Python 3 (ipykernel)",
   "language": "python",
   "name": "python3"
  },
  "language_info": {
   "codemirror_mode": {
    "name": "ipython",
    "version": 3
   },
   "file_extension": ".py",
   "mimetype": "text/x-python",
   "name": "python",
   "nbconvert_exporter": "python",
   "pygments_lexer": "ipython3",
   "version": "3.9.13"
  }
 },
 "nbformat": 4,
 "nbformat_minor": 5
}
